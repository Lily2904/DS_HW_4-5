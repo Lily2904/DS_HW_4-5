{
  "nbformat": 4,
  "nbformat_minor": 0,
  "metadata": {
    "colab": {
      "name": "Lilit_Kalantar_HW4_5_Problem2.ipynb",
      "provenance": [],
      "collapsed_sections": []
    },
    "kernelspec": {
      "name": "python3",
      "display_name": "Python 3"
    }
  },
  "cells": [
    {
      "cell_type": "code",
      "metadata": {
        "id": "l5OhWtJBsRWZ",
        "colab_type": "code",
        "colab": {}
      },
      "source": [
        "#Installing quandl\n",
        "!pip install quandl"
      ],
      "execution_count": null,
      "outputs": []
    },
    {
      "cell_type": "code",
      "metadata": {
        "id": "0kCHPrYXsWuW",
        "colab_type": "code",
        "colab": {}
      },
      "source": [
        "# Importing packages. \n",
        "import quandl\n",
        "import pandas as pd\n",
        "import pandas \n",
        "import numpy as np"
      ],
      "execution_count": 2,
      "outputs": []
    },
    {
      "cell_type": "code",
      "metadata": {
        "id": "GkzyuSuLse36",
        "colab_type": "code",
        "colab": {}
      },
      "source": [
        "# My API \n",
        "quandl.ApiConfig.api_key = 'GjDjD3bNcgfejjCtmS_N'"
      ],
      "execution_count": 3,
      "outputs": []
    },
    {
      "cell_type": "code",
      "metadata": {
        "id": "2jaNYoiCsgtv",
        "colab_type": "code",
        "colab": {}
      },
      "source": [
        "# Importing stock prices of TSLA, selecting ticker, date, open, high, low, close columns.\n",
        "# My chosen period is 04/29/2014 and 04/29/2016, ironically my birthday dates.\n",
        "tsla_stocks = quandl.get_table('WIKI/PRICES', qopts = { 'columns': ['ticker', 'date', 'open', 'high', 'low', 'close'] }, ticker = ['TSLA'], date = { 'gte': '2014-04-29', 'lte': '2016-04-29' })"
      ],
      "execution_count": 12,
      "outputs": []
    },
    {
      "cell_type": "code",
      "metadata": {
        "id": "HVoJm7_TsiaU",
        "colab_type": "code",
        "colab": {
          "base_uri": "https://localhost:8080/",
          "height": 420
        },
        "outputId": "309eed74-6d80-4556-e793-c457ceb34be7"
      },
      "source": [
        "# Converting to DataFrame\n",
        "tsla_df = pd.DataFrame(tsla_stocks)\n",
        "tsla_df"
      ],
      "execution_count": 13,
      "outputs": [
        {
          "output_type": "execute_result",
          "data": {
            "text/html": [
              "<div>\n",
              "<style scoped>\n",
              "    .dataframe tbody tr th:only-of-type {\n",
              "        vertical-align: middle;\n",
              "    }\n",
              "\n",
              "    .dataframe tbody tr th {\n",
              "        vertical-align: top;\n",
              "    }\n",
              "\n",
              "    .dataframe thead th {\n",
              "        text-align: right;\n",
              "    }\n",
              "</style>\n",
              "<table border=\"1\" class=\"dataframe\">\n",
              "  <thead>\n",
              "    <tr style=\"text-align: right;\">\n",
              "      <th></th>\n",
              "      <th>ticker</th>\n",
              "      <th>date</th>\n",
              "      <th>open</th>\n",
              "      <th>high</th>\n",
              "      <th>low</th>\n",
              "      <th>close</th>\n",
              "    </tr>\n",
              "    <tr>\n",
              "      <th>None</th>\n",
              "      <th></th>\n",
              "      <th></th>\n",
              "      <th></th>\n",
              "      <th></th>\n",
              "      <th></th>\n",
              "      <th></th>\n",
              "    </tr>\n",
              "  </thead>\n",
              "  <tbody>\n",
              "    <tr>\n",
              "      <th>0</th>\n",
              "      <td>TSLA</td>\n",
              "      <td>2016-04-29</td>\n",
              "      <td>248.14</td>\n",
              "      <td>248.430</td>\n",
              "      <td>237.8100</td>\n",
              "      <td>240.76</td>\n",
              "    </tr>\n",
              "    <tr>\n",
              "      <th>1</th>\n",
              "      <td>TSLA</td>\n",
              "      <td>2016-04-28</td>\n",
              "      <td>249.85</td>\n",
              "      <td>253.430</td>\n",
              "      <td>247.4400</td>\n",
              "      <td>247.71</td>\n",
              "    </tr>\n",
              "    <tr>\n",
              "      <th>2</th>\n",
              "      <td>TSLA</td>\n",
              "      <td>2016-04-27</td>\n",
              "      <td>252.75</td>\n",
              "      <td>255.000</td>\n",
              "      <td>249.4000</td>\n",
              "      <td>251.47</td>\n",
              "    </tr>\n",
              "    <tr>\n",
              "      <th>3</th>\n",
              "      <td>TSLA</td>\n",
              "      <td>2016-04-26</td>\n",
              "      <td>252.05</td>\n",
              "      <td>255.730</td>\n",
              "      <td>249.3900</td>\n",
              "      <td>253.74</td>\n",
              "    </tr>\n",
              "    <tr>\n",
              "      <th>4</th>\n",
              "      <td>TSLA</td>\n",
              "      <td>2016-04-25</td>\n",
              "      <td>253.01</td>\n",
              "      <td>257.380</td>\n",
              "      <td>250.7600</td>\n",
              "      <td>251.82</td>\n",
              "    </tr>\n",
              "    <tr>\n",
              "      <th>...</th>\n",
              "      <td>...</td>\n",
              "      <td>...</td>\n",
              "      <td>...</td>\n",
              "      <td>...</td>\n",
              "      <td>...</td>\n",
              "      <td>...</td>\n",
              "    </tr>\n",
              "    <tr>\n",
              "      <th>501</th>\n",
              "      <td>TSLA</td>\n",
              "      <td>2014-05-05</td>\n",
              "      <td>209.48</td>\n",
              "      <td>217.690</td>\n",
              "      <td>208.5200</td>\n",
              "      <td>216.61</td>\n",
              "    </tr>\n",
              "    <tr>\n",
              "      <th>502</th>\n",
              "      <td>TSLA</td>\n",
              "      <td>2014-05-02</td>\n",
              "      <td>208.60</td>\n",
              "      <td>211.360</td>\n",
              "      <td>206.5200</td>\n",
              "      <td>210.91</td>\n",
              "    </tr>\n",
              "    <tr>\n",
              "      <th>503</th>\n",
              "      <td>TSLA</td>\n",
              "      <td>2014-05-01</td>\n",
              "      <td>207.08</td>\n",
              "      <td>214.020</td>\n",
              "      <td>205.6900</td>\n",
              "      <td>207.73</td>\n",
              "    </tr>\n",
              "    <tr>\n",
              "      <th>504</th>\n",
              "      <td>TSLA</td>\n",
              "      <td>2014-04-30</td>\n",
              "      <td>203.60</td>\n",
              "      <td>208.160</td>\n",
              "      <td>201.2800</td>\n",
              "      <td>207.89</td>\n",
              "    </tr>\n",
              "    <tr>\n",
              "      <th>505</th>\n",
              "      <td>TSLA</td>\n",
              "      <td>2014-04-29</td>\n",
              "      <td>198.21</td>\n",
              "      <td>207.149</td>\n",
              "      <td>195.5301</td>\n",
              "      <td>206.92</td>\n",
              "    </tr>\n",
              "  </tbody>\n",
              "</table>\n",
              "<p>506 rows × 6 columns</p>\n",
              "</div>"
            ],
            "text/plain": [
              "     ticker       date    open     high       low   close\n",
              "None                                                     \n",
              "0      TSLA 2016-04-29  248.14  248.430  237.8100  240.76\n",
              "1      TSLA 2016-04-28  249.85  253.430  247.4400  247.71\n",
              "2      TSLA 2016-04-27  252.75  255.000  249.4000  251.47\n",
              "3      TSLA 2016-04-26  252.05  255.730  249.3900  253.74\n",
              "4      TSLA 2016-04-25  253.01  257.380  250.7600  251.82\n",
              "...     ...        ...     ...      ...       ...     ...\n",
              "501    TSLA 2014-05-05  209.48  217.690  208.5200  216.61\n",
              "502    TSLA 2014-05-02  208.60  211.360  206.5200  210.91\n",
              "503    TSLA 2014-05-01  207.08  214.020  205.6900  207.73\n",
              "504    TSLA 2014-04-30  203.60  208.160  201.2800  207.89\n",
              "505    TSLA 2014-04-29  198.21  207.149  195.5301  206.92\n",
              "\n",
              "[506 rows x 6 columns]"
            ]
          },
          "metadata": {
            "tags": []
          },
          "execution_count": 13
        }
      ]
    },
    {
      "cell_type": "code",
      "metadata": {
        "id": "PimBSz5dslO1",
        "colab_type": "code",
        "colab": {
          "base_uri": "https://localhost:8080/",
          "height": 33
        },
        "outputId": "b29b6b3a-ddd2-408b-85e2-a6b40d680fd3"
      },
      "source": [
        "# 1: How much is the average daily percentage change of the opening price? \n",
        "# Used pct_change() and mean() functions.\n",
        "average_pct_change = tsla_df[\"open\"].pct_change().mean()\n",
        "average_pct_change"
      ],
      "execution_count": 16,
      "outputs": [
        {
          "output_type": "execute_result",
          "data": {
            "text/plain": [
              "-3.799464806397525e-05"
            ]
          },
          "metadata": {
            "tags": []
          },
          "execution_count": 16
        }
      ]
    },
    {
      "cell_type": "code",
      "metadata": {
        "id": "jQffePftsq8O",
        "colab_type": "code",
        "colab": {
          "base_uri": "https://localhost:8080/",
          "height": 33
        },
        "outputId": "639d0a74-e22f-45dc-ddf2-11c49c79accc"
      },
      "source": [
        "# 2: How much is the median daily percentage change of range between highest and lowest daily prices?\n",
        "# Firstly, calculated the difference between high and low and divided by high.\n",
        "# Secondly, used pct_change() and median() functions. \n",
        "median_pct_change = ((tsla_df[\"high\"] - tsla_df[\"low\"])/tsla_df[\"high\"]).pct_change().median()\n",
        "median_pct_change"
      ],
      "execution_count": 17,
      "outputs": [
        {
          "output_type": "execute_result",
          "data": {
            "text/plain": [
              "0.009536016910461909"
            ]
          },
          "metadata": {
            "tags": []
          },
          "execution_count": 17
        }
      ]
    },
    {
      "cell_type": "code",
      "metadata": {
        "id": "_b7o2AzdHomC",
        "colab_type": "code",
        "colab": {}
      },
      "source": [
        ""
      ],
      "execution_count": null,
      "outputs": []
    }
  ]
}