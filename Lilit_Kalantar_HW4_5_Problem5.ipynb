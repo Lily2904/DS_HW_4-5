{
  "nbformat": 4,
  "nbformat_minor": 0,
  "metadata": {
    "colab": {
      "name": "Lilit_Kalantar_HW4_5_Problem5.ipynb",
      "provenance": [],
      "collapsed_sections": []
    },
    "kernelspec": {
      "name": "python3",
      "display_name": "Python 3"
    }
  },
  "cells": [
    {
      "cell_type": "code",
      "metadata": {
        "id": "IwMKujLbZ7Q0",
        "colab_type": "code",
        "colab": {}
      },
      "source": [
        "# Installing scrapy.\n",
        "!pip install scrapy"
      ],
      "execution_count": null,
      "outputs": []
    },
    {
      "cell_type": "code",
      "metadata": {
        "id": "xi6dwlkyYiS3",
        "colab_type": "code",
        "colab": {}
      },
      "source": [
        "# Importing packages.\n",
        "import requests\n",
        "import time\n",
        "import pandas as pd\n",
        "import numpy as np\n",
        "import scrapy\n",
        "from scrapy.http import TextResponse\n",
        "from scrapy.crawler import CrawlerProcess\n",
        "import re\n",
        "import os\n",
        "import logging"
      ],
      "execution_count": 7,
      "outputs": []
    },
    {
      "cell_type": "code",
      "metadata": {
        "id": "4-vbyq1tc0Ud",
        "colab_type": "code",
        "colab": {}
      },
      "source": [
        "#Defining base_url\n",
        "base_url = \"https://www.menu.am\""
      ],
      "execution_count": 8,
      "outputs": []
    },
    {
      "cell_type": "code",
      "metadata": {
        "id": "8zQ-FkW8ZMOk",
        "colab_type": "code",
        "colab": {}
      },
      "source": [
        "# Used the full scrapy framework to scrape the required data from menu.am. \n",
        "class MenuAmScraper(scrapy.Spider):\n",
        "    name = \"menu_am\"\n",
        "    start_urls = [\"https://www.menu.am/?status=all&sort=default\"]\n",
        "    \n",
        "    custom_settings = {\n",
        "        \"LOG_LEVEL\": logging.WARNING,\n",
        "        \"FEED_FORMAT\": \"csv\",\n",
        "        \"FEED_URI\": \"Menu_am.csv\"\n",
        "    }\n",
        "    \n",
        "    def parse(self, response):\n",
        "        names = []\n",
        "        opening_hours = []\n",
        "        ratings_draft = []\n",
        "        ratings = []\n",
        "        categories = []\n",
        "        urls = []\n",
        "\n",
        "        names = response.css(\"div.fl.list-title>a.title::text\").extract()\n",
        "        opening_hours = response.css(\"div.new_list_time_block>span.new_list_time_block_inner::text\").extract()\n",
        "        blocks = response.xpath(\"//div[contains(@class, 'item ')]\")\n",
        "        categories = response.css(\"span.restType::text\").extract()\n",
        "        restaurant_url = response.css(\"div.fl.list-title>a::attr(href)\").extract()\n",
        "        urls = [base_url + i for i in restaurant_url]\n",
        "  \n",
        "\n",
        "        for i in blocks:\n",
        "            ratings_draft.append(a.xpath('div[@class=\"new_favorites_and_rates_block\"]//text()').extract())\n",
        "        for j in ratings_draft:\n",
        "            if(j == []):\n",
        "                ratings.append(0)\n",
        "                continue\n",
        "            ratings.append(b[0].strip())\n",
        "        for names_csv, opening_hours_csv, ratings_csv, categories_csv, urls_csv in zip(names, opening_hours, ratings, categories, urls):\n",
        "            yield {'Names': names_csv, 'Opening_Hours': opening_hours_csv, 'Ratings': ratings_csv, 'Categories': categories_csv, 'Urls': urls_csv}\n",
        "\n"
      ],
      "execution_count": 11,
      "outputs": []
    },
    {
      "cell_type": "code",
      "metadata": {
        "id": "DFdzM_vaKPji",
        "colab_type": "code",
        "colab": {}
      },
      "source": [
        "# Saving the data in a csv file.\n",
        "if(os.path.isfile('Menu_am.csv') == False):\n",
        "    process = CrawlerProcess()\n",
        "    process.crawl(MenuAmScraper)\n",
        "    process.start()"
      ],
      "execution_count": 12,
      "outputs": []
    },
    {
      "cell_type": "code",
      "metadata": {
        "id": "awFgg6Gzgsbc",
        "colab_type": "code",
        "colab": {}
      },
      "source": [
        "# Reading the csv and converting it to a DataFrame.\n",
        "menu_df = pd.read_csv('Menu_am.csv')"
      ],
      "execution_count": 14,
      "outputs": []
    },
    {
      "cell_type": "code",
      "metadata": {
        "id": "-ttrLJP2dq3a",
        "colab_type": "code",
        "colab": {
          "base_uri": "https://localhost:8080/",
          "height": 131
        },
        "outputId": "c81f5d32-bc16-4a7c-cdb9-74447cd6d789"
      },
      "source": [
        "# 1: Which category has the top rating?\n",
        "# Grouped ratings by categories, calculated the mean, and sorted values values in \n",
        "#a descending order to get the categories with highest rating on average.\n",
        "menu_df['Ratings'].groupby(menu_df['Categories']).mean().sort_values(ascending = False).head()"
      ],
      "execution_count": 16,
      "outputs": [
        {
          "output_type": "execute_result",
          "data": {
            "text/plain": [
              "Categories\n",
              "Լավ առաջարկ                          5.0\n",
              "Եվրոպական, Սուրճ և Թեյ, Իտալական     5.0\n",
              "Քաղցրավենիք, Ֆրեշ, Պաղպաղակ          5.0\n",
              "Ծաղիկներ և Փուչիկներ, Քաղցրավենիք    5.0\n",
              "Գաստրոնոմ, Ըմպելիքներ և Խորտիկներ    5.0\n",
              "Name: Ratings, dtype: float64"
            ]
          },
          "metadata": {
            "tags": []
          },
          "execution_count": 16
        }
      ]
    },
    {
      "cell_type": "code",
      "metadata": {
        "id": "mopIXsa5gBcM",
        "colab_type": "code",
        "colab": {
          "base_uri": "https://localhost:8080/",
          "height": 732
        },
        "outputId": "15ade6e9-cc5d-45e5-cba1-3437a9d98c71"
      },
      "source": [
        "# 2:How many close exactly at or sooner than 7pm?\n",
        "# Created 2 lists. First list contains data from Opening_hours column. \n",
        "# Second list is empty. \n",
        "# Using for loop to get the required data and append it to the empty list. \n",
        "# Using .loc (to get a group of values using labels) and .isin (an equivalent method on series) \n",
        "# to see the results. \n",
        "time = menu_df['Opening_Hours']\n",
        "seven_or_sooner = []\n",
        "for i in time:\n",
        "    if(i[8:10] != ''):\n",
        "        if(int(i[8:10])<=19 and int(i[8:10])>12):\n",
        "            seven_or_sooner.append(i)\n",
        "menu_df['Names'].loc[menu_df['Opening_Hours'].isin(seven_or_sooner)]"
      ],
      "execution_count": 17,
      "outputs": [
        {
          "output_type": "execute_result",
          "data": {
            "text/plain": [
              "12                                Լեդի Ջի Քեյք \n",
              "16                                    Էլեն Քեյք\n",
              "23                          Տաք Կճուճ Ֆուդ Կորտ\n",
              "24                                 ՍԻՍ Նատուրալ\n",
              "34                                  Ռեդի Լանչիս\n",
              "35                                      Պատառիկ\n",
              "39                                 Խմորի Աշխարհ\n",
              "46                      Գևորգյան Գինու Գործարան\n",
              "55                                         Չոկո\n",
              "59                                       Բոնիտո\n",
              "61                                  Ապարան Ջուր\n",
              "98                                       ԲիԷլլա\n",
              "107                                   Լայֆ Ֆուդ\n",
              "109                                  Փարթի Թայմ\n",
              "111                                    Արտ Լանչ\n",
              "122                                  Դան Դեսերտ\n",
              "127                                Բագետ էնդ Կո\n",
              "128                                     Ֆլորեքս\n",
              "132                                          ՎՍ\n",
              "153                                     Բրաբիոն\n",
              "178                                     Բայազետ\n",
              "183                                   Էվն Գիֆթս\n",
              "188                                 Լակի Դեսերտ\n",
              "195                                     Լահմաջո\n",
              "203                                       Ռոսսի\n",
              "230                                      Տուշպա\n",
              "233                        Վերնիանո 1882 Խանութ\n",
              "245                     Բնատուր Խնամքի Միջոցներ\n",
              "280                 Healthy Box by Առողջ Սնունդ\n",
              "290                                       ՀՈՈՒԼ\n",
              "294                               Մարտինի Ռոյալ\n",
              "301                             Մասուր Ռեստորան\n",
              "305     Ակցենտ ծորակների և ցնցուղների ցուցասրահ\n",
              "321                             Լյուքսուս Հաուս\n",
              "329                                  Ֆիկա Սուրճ\n",
              "335                              Զանգակ Գրատուն\n",
              "352                     Գարուն բայ Առողջ Սնունդ\n",
              "353    Փարաքարի շաուրմա և Թուրինգյան բրաթվուրստ\n",
              "355                              Կասա դե Էսպանա\n",
              "358                  Սերգեյ Զվերևի Բյութի Սալոն\n",
              "370                       Ֆեմիլի Հաուս Ռեստորան\n",
              "372                                       Թոշկա\n",
              "399                                  Ալիսա Քեյք\n",
              "Name: Names, dtype: object"
            ]
          },
          "metadata": {
            "tags": []
          },
          "execution_count": 17
        }
      ]
    },
    {
      "cell_type": "code",
      "metadata": {
        "id": "vzWH1A-aNwPN",
        "colab_type": "code",
        "colab": {}
      },
      "source": [
        ""
      ],
      "execution_count": null,
      "outputs": []
    }
  ]
}